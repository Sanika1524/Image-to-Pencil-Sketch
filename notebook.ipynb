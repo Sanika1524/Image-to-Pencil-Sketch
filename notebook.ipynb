{
 "cells": [
  {
   "cell_type": "code",
   "execution_count": 1,
   "id": "21aeb5a0",
   "metadata": {},
   "outputs": [
    {
     "name": "stdout",
     "output_type": "stream",
     "text": [
      "Requirement already satisfied: opencv-python in c:\\users\\sanika\\appdata\\local\\programs\\python\\python310\\lib\\site-packages (4.12.0.88)\n",
      "Requirement already satisfied: numpy<2.3.0,>=2 in c:\\users\\sanika\\appdata\\local\\programs\\python\\python310\\lib\\site-packages (from opencv-python) (2.2.6)\n",
      "Note: you may need to restart the kernel to use updated packages.\n"
     ]
    },
    {
     "name": "stderr",
     "output_type": "stream",
     "text": [
      "WARNING: You are using pip version 21.2.3; however, version 25.2 is available.\n",
      "You should consider upgrading via the 'c:\\Users\\Sanika\\AppData\\Local\\Programs\\Python\\Python310\\python.exe -m pip install --upgrade pip' command.\n"
     ]
    }
   ],
   "source": [
    "pip install opencv-python"
   ]
  },
  {
   "cell_type": "code",
   "execution_count": 2,
   "id": "e51e97da",
   "metadata": {},
   "outputs": [],
   "source": [
    "import cv2"
   ]
  },
  {
   "cell_type": "code",
   "execution_count": 3,
   "id": "cef3e6e0",
   "metadata": {},
   "outputs": [],
   "source": [
    "image = cv2.imread('dog.jpg')"
   ]
  },
  {
   "cell_type": "code",
   "execution_count": 4,
   "id": "e4b65700",
   "metadata": {},
   "outputs": [],
   "source": [
    "#converting image to grayscale\n",
    "gray_image = cv2.cvtColor(image, cv2.COLOR_BGR2GRAY)"
   ]
  },
  {
   "cell_type": "code",
   "execution_count": 5,
   "id": "6d724d2b",
   "metadata": {},
   "outputs": [
    {
     "data": {
      "text/plain": [
       "array([[ 41,  43,  45, ..., 248, 247, 247],\n",
       "       [ 43,  45,  48, ..., 247, 247, 247],\n",
       "       [ 47,  48,  51, ..., 247, 247, 247],\n",
       "       ...,\n",
       "       [129, 129, 130, ..., 202, 202, 202],\n",
       "       [130, 131, 131, ..., 203, 203, 203],\n",
       "       [131, 132, 132, ..., 203, 203, 203]], shape=(480, 768), dtype=uint8)"
      ]
     },
     "execution_count": 5,
     "metadata": {},
     "output_type": "execute_result"
    }
   ],
   "source": [
    "gray_image"
   ]
  },
  {
   "cell_type": "code",
   "execution_count": 6,
   "id": "bd32a504",
   "metadata": {},
   "outputs": [],
   "source": [
    "#inverting grayscale image\n",
    "inverted_image = 255 - gray_image"
   ]
  },
  {
   "cell_type": "code",
   "execution_count": 7,
   "id": "4378d569",
   "metadata": {},
   "outputs": [
    {
     "data": {
      "text/plain": [
       "array([[214, 212, 210, ...,   7,   8,   8],\n",
       "       [212, 210, 207, ...,   8,   8,   8],\n",
       "       [208, 207, 204, ...,   8,   8,   8],\n",
       "       ...,\n",
       "       [126, 126, 125, ...,  53,  53,  53],\n",
       "       [125, 124, 124, ...,  52,  52,  52],\n",
       "       [124, 123, 123, ...,  52,  52,  52]], shape=(480, 768), dtype=uint8)"
      ]
     },
     "execution_count": 7,
     "metadata": {},
     "output_type": "execute_result"
    }
   ],
   "source": [
    "inverted_image"
   ]
  },
  {
   "cell_type": "code",
   "execution_count": 8,
   "id": "2c398639",
   "metadata": {},
   "outputs": [],
   "source": [
    "#apply guassian blue to inverted image\n",
    "blur_image = cv2.GaussianBlur(inverted_image, (21,21), 0)"
   ]
  },
  {
   "cell_type": "code",
   "execution_count": 9,
   "id": "ef56c48c",
   "metadata": {},
   "outputs": [],
   "source": [
    "#inverting blurred image\n",
    "inverted_blur_image = 255 - blur_image\n"
   ]
  },
  {
   "cell_type": "code",
   "execution_count": 10,
   "id": "2624a91b",
   "metadata": {},
   "outputs": [],
   "source": [
    "# Create the sketch by dividing the grayscale image by the inverted blurry image\n",
    "sketch = cv2.divide(gray_image, inverted_blur_image, scale=256.0)"
   ]
  },
  {
   "cell_type": "code",
   "execution_count": 11,
   "id": "6e7d8381",
   "metadata": {},
   "outputs": [],
   "source": [
    "cv2.imshow(\"Original Image\", image)"
   ]
  },
  {
   "cell_type": "code",
   "execution_count": 12,
   "id": "63d020d1",
   "metadata": {},
   "outputs": [],
   "source": [
    "cv2.imshow(\"Pencil Sketch\", sketch)\n",
    "cv2.waitKey(0)\n",
    "cv2.destroyAllWindows()"
   ]
  },
  {
   "cell_type": "code",
   "execution_count": null,
   "id": "d85ec68e",
   "metadata": {},
   "outputs": [],
   "source": []
  }
 ],
 "metadata": {
  "kernelspec": {
   "display_name": "Python 3",
   "language": "python",
   "name": "python3"
  },
  "language_info": {
   "codemirror_mode": {
    "name": "ipython",
    "version": 3
   },
   "file_extension": ".py",
   "mimetype": "text/x-python",
   "name": "python",
   "nbconvert_exporter": "python",
   "pygments_lexer": "ipython3",
   "version": "3.10.0"
  }
 },
 "nbformat": 4,
 "nbformat_minor": 5
}
